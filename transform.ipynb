{
 "cells": [
  {
   "cell_type": "code",
   "execution_count": 1,
   "metadata": {
    "ExecuteTime": {
     "end_time": "2019-04-23T00:48:30.110933Z",
     "start_time": "2019-04-23T00:48:30.085130Z"
    }
   },
   "outputs": [],
   "source": [
    "import os\n",
    "from PIL import Image"
   ]
  },
  {
   "cell_type": "code",
   "execution_count": 11,
   "metadata": {
    "ExecuteTime": {
     "end_time": "2019-04-23T00:53:08.049731Z",
     "start_time": "2019-04-23T00:53:06.288321Z"
    }
   },
   "outputs": [
    {
     "name": "stdout",
     "output_type": "stream",
     "text": [
      "istockphoto-134007638-612x612.jpg\n",
      "images (2).jpeg\n",
      "download.jpeg\n",
      "reclaimed-barn-door-on.jpg\n",
      "wood-pallet-500x500.jpg\n",
      "compost.jpg\n",
      "Selectwood-2-870x400.jpg\n",
      "images (14).jpeg\n",
      "know-wooden-pallets-safe-diy-homejelly_107008.jpg\n",
      "images (16).jpeg\n",
      "reclaimed wood laundryroom table-001.jpg\n",
      "Waste wood (WRAP)_popup.jpg\n",
      "images (4).jpeg\n",
      ".DS_Store\n",
      "download.jpg\n",
      "landfill-wood-pile-450w-466172597.jpg\n",
      "images.jpeg\n",
      "images (12).jpeg\n",
      "ls.jpg\n",
      "images (10).jpeg\n",
      "images (6).jpeg\n",
      "download (1).jpeg\n",
      "images (17).jpeg\n",
      "wood-recycle.jpg\n",
      "images (1).jpeg\n",
      "tons-wood-recycled-tons-wood-recycled-waste-plant-wasteland-landfill-environment-wooden-recycling-trash-garbage-112063566.jpg\n",
      "scrap-yard-waste-metal-wood-junk-37037923.jpg\n",
      "tons-wood-recycled-waste-plant-wasteland-landfill-environment-wooden-recycling-trash-garbage-tons-wood-recycled-112062920.jpg\n",
      "images (3).jpeg\n",
      "images (15).jpeg\n",
      "warehouse-wooden-pallet-500x500.jpg\n",
      "images (11).jpeg\n",
      "images (7).jpeg\n",
      "images (5).jpeg\n",
      "Wood-pile-.jpg\n",
      "images (13).jpeg\n",
      "images (22).jpeg\n",
      "istockphoto-1036201644-612x612.jpg\n",
      "istockphoto-487542138-612x612.jpg\n",
      "images (9).jpeg\n",
      "03-pallet wood coffee table-0213.jpg\n",
      "images (20).jpeg\n",
      "$_75.JPG\n",
      "mt4fafpbmvioumnmolpv.jpg\n",
      "images (19).jpeg\n",
      "New-Wooden-Euro-Pallet-Factory-Price-High.jpg_300x300.jpg\n",
      "H-750.jpg\n",
      "Hardwood+planks,+photo,+4,+junkwhisperer.jpg\n",
      "crates-pallet-woodshop-projects-94716-64_1000.jpg\n",
      "junk-rangers-junk-removal-employee-loading-wood-to-junk-truck-400-px-w.jpg\n",
      "169fe823c02cbfb0dc5f1fc2b1b08e85.jpeg\n",
      "images (21).jpeg\n",
      "images (23).jpeg\n",
      "download-1.jpg\n",
      "images (8).jpeg\n",
      "Stack-of-Wood-Pallets-58d159b85f9b581d72624f2a.jpg\n",
      "trash-1731503_1920.jpg\n",
      "wood-waste.jpg\n",
      "pallet-captains-chair-4.jpg\n",
      "images.jpg\n",
      "images (18).jpeg\n",
      "wooden-pallet-500x500.jpg\n",
      "crates-pallet-woodshop-projects-94721-64_1000.jpg\n"
     ]
    }
   ],
   "source": [
    "for f in os.listdir('./renamed'):\n",
    "    os.remove('./renamed/' + f)\n",
    "\n",
    "for index, file in enumerate(os.listdir('./raw')):\n",
    "    print(file)\n",
    "    if 'DS_Store' not in file:\n",
    "        image = Image.open('./raw/' + file)\n",
    "        image.save('renamed/wood-' + str(index) + '.jpg')"
   ]
  },
  {
   "cell_type": "code",
   "execution_count": null,
   "metadata": {},
   "outputs": [],
   "source": []
  },
  {
   "cell_type": "code",
   "execution_count": null,
   "metadata": {},
   "outputs": [],
   "source": []
  }
 ],
 "metadata": {
  "kernelspec": {
   "display_name": "Python 3",
   "language": "python",
   "name": "python3"
  },
  "language_info": {
   "codemirror_mode": {
    "name": "ipython",
    "version": 3
   },
   "file_extension": ".py",
   "mimetype": "text/x-python",
   "name": "python",
   "nbconvert_exporter": "python",
   "pygments_lexer": "ipython3",
   "version": "3.6.5"
  },
  "toc": {
   "base_numbering": 1,
   "nav_menu": {},
   "number_sections": true,
   "sideBar": true,
   "skip_h1_title": false,
   "title_cell": "Table of Contents",
   "title_sidebar": "Contents",
   "toc_cell": false,
   "toc_position": {},
   "toc_section_display": true,
   "toc_window_display": false
  },
  "varInspector": {
   "cols": {
    "lenName": 16,
    "lenType": 16,
    "lenVar": 40
   },
   "kernels_config": {
    "python": {
     "delete_cmd_postfix": "",
     "delete_cmd_prefix": "del ",
     "library": "var_list.py",
     "varRefreshCmd": "print(var_dic_list())"
    },
    "r": {
     "delete_cmd_postfix": ") ",
     "delete_cmd_prefix": "rm(",
     "library": "var_list.r",
     "varRefreshCmd": "cat(var_dic_list()) "
    }
   },
   "types_to_exclude": [
    "module",
    "function",
    "builtin_function_or_method",
    "instance",
    "_Feature"
   ],
   "window_display": false
  }
 },
 "nbformat": 4,
 "nbformat_minor": 2
}
